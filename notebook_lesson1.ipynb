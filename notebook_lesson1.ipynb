{
 "cells": [
  {
   "cell_type": "code",
   "execution_count": 2,
   "metadata": {},
   "outputs": [],
   "source": [
    "import numpy as np\n",
    "import pandas as pd"
   ]
  },
  {
   "cell_type": "markdown",
   "metadata": {},
   "source": [
    "# Distance between patterns\n",
    "\n",
    "## Euclidean distance\n",
    "Sensitive to shift, offset, scale, outliers \n",
    "Linear complexity"
   ]
  },
  {
   "cell_type": "code",
   "execution_count": 2,
   "metadata": {},
   "outputs": [],
   "source": [
    "def euclidean_distance(x, y):\n",
    "    return np.linalg.norm(x - y)\n"
   ]
  },
  {
   "cell_type": "markdown",
   "metadata": {},
   "source": [
    "## Normalized Euclidean distance\n",
    "More robust to offset and scale, but not completely, augment sensitivity to noise\n",
    "Linear complexity"
   ]
  },
  {
   "cell_type": "code",
   "execution_count": 3,
   "metadata": {},
   "outputs": [],
   "source": [
    "def normalized_e_d(x,y):\n",
    "    mu_x, mu_y = np.mean(x), np.mean(y)\n",
    "    sigma_x, sigma_y = np.std(x), np.std(y)\n",
    "    return euclidean_distance((x - mu_x)/sigma_x, (y - mu_y)/sigma_y)\n"
   ]
  },
  {
   "cell_type": "markdown",
   "metadata": {},
   "source": [
    "## Dynamic Time Wrapping\n",
    "Doesn't need to have same size entries\n",
    "Robust to shift, offset, better for scaling if the time series are normalized.\n",
    "Complexity is worse"
   ]
  },
  {
   "cell_type": "code",
   "execution_count": 3,
   "metadata": {},
   "outputs": [],
   "source": [
    "def DTW(x,y, d = np.linalg.norm):\n",
    "    #D = (x - np.transpose(y))**2  #### D_{i,j} = (x_i - y_j)**2  Works only if x and y have 1 feature only\n",
    "    D = np.zeros(x.shape[1], y.shape[1])  \n",
    "    for i in range(x.shape[1]):\n",
    "        for j in range(y.shape[1]):\n",
    "            D[i, j] = d(x[:,i], y[:, j]) \n",
    "    C = np.zeros_like(D)\n",
    "    C[0,:] = D[0,:]\n",
    "    C[:,0] = D[:, 0]\n",
    "    for i in range(1,x.shape[1]):\n",
    "        for j in range(1,y.shape[1]):\n",
    "            C[i, j] = D[i,j] + min(C[i-1, j], C[i-1, j-1], C[i, j-1])\n",
    "    return np.sqrt(C[-1, -1])"
   ]
  }
 ],
 "metadata": {
  "kernelspec": {
   "display_name": "Python 3.10.4 64-bit",
   "language": "python",
   "name": "python3"
  },
  "language_info": {
   "codemirror_mode": {
    "name": "ipython",
    "version": 3
   },
   "file_extension": ".py",
   "mimetype": "text/x-python",
   "name": "python",
   "nbconvert_exporter": "python",
   "pygments_lexer": "ipython3",
   "version": "3.10.4"
  },
  "orig_nbformat": 4,
  "vscode": {
   "interpreter": {
    "hash": "21821e89369cc4c56202e1483eb93c331b8076d7c3f4cf926266edda3db26e8d"
   }
  }
 },
 "nbformat": 4,
 "nbformat_minor": 2
}
